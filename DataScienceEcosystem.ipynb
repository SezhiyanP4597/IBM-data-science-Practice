{
  "metadata": {
    "kernelspec": {
      "name": "python",
      "display_name": "Python (Pyodide)",
      "language": "python"
    },
    "language_info": {
      "codemirror_mode": {
        "name": "python",
        "version": 3
      },
      "file_extension": ".py",
      "mimetype": "text/x-python",
      "name": "python",
      "nbconvert_exporter": "python",
      "pygments_lexer": "ipython3",
      "version": "3.8"
    }
  },
  "nbformat_minor": 5,
  "nbformat": 4,
  "cells": [
    {
      "id": "de3f716d-7789-45de-b736-6eb238ae7a79",
      "cell_type": "markdown",
      "source": "# Data Science Tools and Ecosystem",
      "metadata": {}
    },
    {
      "id": "94bd3d97-b0c1-4540-959c-a65f82c2b242",
      "cell_type": "markdown",
      "source": "In this notebook, Data Science Tools and Ecosystem are summarized.",
      "metadata": {}
    },
    {
      "id": "8a93c6a3-42d3-4435-9433-533f6b2bbcae",
      "cell_type": "markdown",
      "source": "Some of the popular languages that Data Scientists use are:\n1. R\n2. Python\n3. SQL",
      "metadata": {}
    },
    {
      "id": "bee401bc-0c21-4713-8087-92851b8d95b9",
      "cell_type": "markdown",
      "source": "***Objectives:***\nList popular languages for Data Science\n+ Java\n+ Scala\n+ Julia",
      "metadata": {}
    },
    {
      "id": "9defa330-d471-4f00-b2c5-2383345a33c1",
      "cell_type": "markdown",
      "source": "Some of the commonly used libraries used by Data Scientists include:\n1. numpy\n2. pandas\n3. scikit",
      "metadata": {}
    },
    {
      "id": "190f4901-bb2e-4588-81fb-56a3dc2af541",
      "cell_type": "markdown",
      "source": "| Data Science Tools | \n| -------------| \n| Jupiter Notebook | \n| RStudio | \n| VS Code |",
      "metadata": {}
    },
    {
      "id": "306cbb95-f4b4-44a2-b982-65b811386e25",
      "cell_type": "markdown",
      "source": "### Below are a few examples of evaluating arithmetic expressions in Python",
      "metadata": {}
    },
    {
      "id": "cf8c7dc0-9dca-42af-938e-f9964998bf92",
      "cell_type": "code",
      "source": "#This a simple arithmetic expression to mutiply then add integers\n(3*4)+5\n",
      "metadata": {
        "trusted": true
      },
      "outputs": [
        {
          "execution_count": 2,
          "output_type": "execute_result",
          "data": {
            "text/plain": "17"
          },
          "metadata": {}
        }
      ],
      "execution_count": 2
    },
    {
      "id": "5a669a1f-d59b-4a7a-82d9-fcc7b4c4fa1b",
      "cell_type": "code",
      "source": "#This will convert 200 minutes to hours by diving by 60\n200/60",
      "metadata": {
        "trusted": true
      },
      "outputs": [
        {
          "execution_count": 4,
          "output_type": "execute_result",
          "data": {
            "text/plain": "3.3333333333333335"
          },
          "metadata": {}
        }
      ],
      "execution_count": 4
    },
    {
      "id": "31f6cead-65e6-4c3d-9ed3-a7cce7868485",
      "cell_type": "markdown",
      "source": "## Author\nSezhiyan P",
      "metadata": {}
    },
    {
      "id": "369b2661-ff3e-4431-a457-0004b8526cda",
      "cell_type": "code",
      "source": "",
      "metadata": {
        "trusted": true
      },
      "outputs": [],
      "execution_count": null
    }
  ]
}